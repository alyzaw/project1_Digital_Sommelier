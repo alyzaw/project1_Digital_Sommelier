{
 "cells": [
  {
   "cell_type": "code",
   "execution_count": 3,
   "metadata": {},
   "outputs": [
    {
     "name": "stdout",
     "output_type": "stream",
     "text": [
      "Requirement already satisfied: beautifulsoup4 in c:\\users\\alyza\\anaconda3\\lib\\site-packages (4.6.3)\n"
     ]
    }
   ],
   "source": [
    "#!pip install beautifulsoup4"
   ]
  },
  {
   "cell_type": "code",
   "execution_count": 4,
   "metadata": {
    "scrolled": false
   },
   "outputs": [
    {
     "name": "stdout",
     "output_type": "stream",
     "text": [
      "Collecting google\n",
      "  Downloading https://files.pythonhosted.org/packages/c8/b1/887e715b39ea7d413a06565713c5ea0e3132156bd6fc2d8b165cee3e559c/google-2.0.1.tar.gz\n",
      "Requirement already satisfied: beautifulsoup4 in c:\\users\\alyza\\anaconda3\\lib\\site-packages (from google) (4.6.3)\n",
      "Building wheels for collected packages: google\n",
      "  Running setup.py bdist_wheel for google: started\n",
      "  Running setup.py bdist_wheel for google: finished with status 'done'\n",
      "  Stored in directory: C:\\Users\\Alyza\\AppData\\Local\\pip\\Cache\\wheels\\b3\\6d\\94\\ad59f018e26ad1987116a8eda758a4dd4285fcb0b4daf7c50d\n",
      "Successfully built google\n",
      "Installing collected packages: google\n",
      "Successfully installed google-2.0.1\n"
     ]
    }
   ],
   "source": [
    "#!pip install google"
   ]
  },
  {
   "cell_type": "code",
   "execution_count": 1,
   "metadata": {},
   "outputs": [],
   "source": [
    "from googlesearch import search "
   ]
  },
  {
   "cell_type": "code",
   "execution_count": 2,
   "metadata": {
    "scrolled": false
   },
   "outputs": [
    {
     "name": "stdout",
     "output_type": "stream",
     "text": [
      "https://en.wikipedia.org/wiki/Queen_(band)\n",
      "https://en.wikipedia.org/wiki/Queen_%2B_Paul_Rodgers\n",
      "https://en.wikipedia.org/wiki/Freddie_Mercury\n",
      "https://en.wikipedia.org/wiki/John_Deacon\n",
      "https://en.wikipedia.org/wiki/Brian_May\n",
      "https://en.wikipedia.org/wiki/Greatest_Hits_III_(Queen_album)\n",
      "https://en.wikipedia.org/wiki/Greatest_Hits_III_(Queen_album)#Track_listing\n",
      "https://en.wikipedia.org/wiki/Greatest_Hits_III_(Queen_album)#Charts\n",
      "https://en.wikipedia.org/wiki/Greatest_Hits_III_(Queen_album)#Certifications\n",
      "http://www.queenonline.com/\n",
      "http://www.queenonline.com/news\n",
      "http://www.queenonline.com/the_band\n",
      "http://www.queenonline.com/upcoming_shows\n",
      "http://www.queenonline.com/music\n",
      "https://www.youtube.com/user/queenofficial\n",
      "https://www.discogs.com/Queen-Greatest-Hits-III/master/26909\n",
      "https://www.discogs.com/artist/81013-Queen\n",
      "https://itunes.apple.com/us/artist/queen/3296287\n",
      "https://www.cnn.com/2018/12/04/entertainment/queen-adam-lambert-tour/index.html\n",
      "https://rateyourmusic.com/artist/queen\n",
      "http://www.queenonlinestore.com/\n",
      "https://www.discogs.com/Queen-Queen-Greatest-Hits-III/release/9746456\n",
      "https://tvtropes.org/pmwiki/pmwiki.php/Music/Queen\n",
      "https://www.rollingstone.com/music/music-news/queen-adam-lambert-north-american-rhapsody-tour-762415/\n",
      "https://www.usatoday.com/story/life/music/2018/12/03/queen-adam-lambert-launch-tour-following-bohemian-rhapsody-film/2190930002/\n",
      "https://www.imdb.com/title/tt0159686/\n",
      "http://www.icce.rug.nl/~soundscapes/VOLUME03/Queen_anomaly_Appendix1.shtml\n",
      "http://rock.my.world.over-blog.com/article-queen-50-things-about-the-band-120286597.html\n",
      "http://www.hardrock.com/rpm/concert-review-queen-adam-lambert/\n",
      "https://hitparade.ch/artist/Queen\n",
      "https://www.homedepot.com/b/Furniture-Bedroom-Furniture-Mattresses/Queen/Innerspring/N-5yc1vZc7oeZ1z0y6luZ1z0zdlg\n",
      "http://time.com/4657465/adam-lambert-interview/\n",
      "https://www.bostonherald.com/2017/07/04/queen-replaces-freddie-mercury-with-jester-in-adam-lambert/\n",
      "https://musicbrainz.org/artist/0383dadf-2a4e-4d10-a46a-e9e041da8eb3\n",
      "https://www.songkick.com/artists/469904-queen\n",
      "https://variety.com/2018/music/news/adam-lambert-new-management-queen-las-vegas-residency-1202801999/\n",
      "https://www.couriermail.com.au/entertainment/confidential/unlikely-pairing-of-queen-and-adam-lambert-deliver-some-kind-of-magic/news-story/bed96c32ef16db978131b61914553cf8\n",
      "https://www.setlist.fm/news/09-18/queen-adam-lambert-kick-off-crown-jewels-residency-in-las-vegas-43d6bb7b\n",
      "https://lasvegassun.com/news/2018/sep/10/queen-adam-lambert-park-theater-crown-jewels/\n",
      "https://www1.ticketmaster.com/queen-adam-lambert-the-rhapsody-tour-phoenix-arizona-07-16-2019/event/1900557ED9FB5C7D\n",
      "https://www.nme.com/news/music/queen-adam-lambert-elvis-presley-heartbreak-hotel-cover-las-vegas-crown-jewels-2373558\n",
      "https://www.dailymail.co.uk/tvshowbiz/article-5374647/Adam-Lambert-refuses-rule-new-Queen-album.html\n",
      "https://www.songfacts.com/facts/queen/now-im-here\n",
      "https://clture.org/event/queen-adam-lambert/\n",
      "https://www.telegraph.co.uk/news/2018/06/08/queen-had-surgery-remove-cataract-wore-sunglasses-rather-cancel/\n",
      "https://www.okpal.com/vesti-i-queen-di-azzurro/\n",
      "https://twitter.com/oiqfc?lang=en\n",
      "https://www.billboard.com/articles/columns/rock/8487725/queen-adam-lambert-tour-dates\n",
      "https://www.nytimes.com/2014/07/19/arts/music/queen-adam-lambert-take-on-madison-square-garden.html\n",
      "https://consequenceofsound.net/2018/12/queen-adam-lambert-2019-tour/\n",
      "http://www.ticketmaster.co.nz/Queen-Adam-Lambert-tickets/artist/1971833\n",
      "http://www.bbc.co.uk/music/reviews/5hpn/\n",
      "https://www.axs.com/why-queen-probably-won-t-ever-record-an-album-with-adam-lambert-114038\n",
      "https://www.theage.com.au/entertainment/music/queen-with-adam-lambert-review-more-than-a-trip-down-memory-lane-20180301-h0wuxc.html\n",
      "http://ultimateclassicrock.com/queen-las-vegas-opening-night/\n",
      "https://austriancharts.at/showinterpret.asp?interpret=Queen\n",
      "https://www.gettyimages.com/photos/queen-band\n",
      "https://contentmarketinginstitute.com/2011/07/content-is-king-creative-is-queen/\n",
      "https://dutchcharts.nl/showinterpret.asp?interpret=Queen\n",
      "https://www.vividseats.com/blog/queen-adam-lambert-tour-dates\n",
      "https://www.adrifthotel.com/room/queen-plus/\n",
      "https://www.ticketmaster.ca/queen-tickets/artist/845182\n",
      "https://www.match3games.com/game/Snow+Queen\n",
      "https://www.ebay.com/b/Queen-Compilation-CDs-Greatest-Hits/176984/bn_89122633\n",
      "https://etcanada.com/news/363345/queen-guitarist-brian-may-says-freddie-mercury-would-both-love-and-hate-adam-lambert/\n",
      "https://www.townandcountrymag.com/society/tradition/a19755560/andrew-morton-meghan-markle-biography-queen-elizabeth-tea/\n",
      "https://www.lacoccinelle.net/211198.html\n",
      "http://www.lacrossequeen.com/\n",
      "https://genius.com/Queen-hammer-to-fall-live-aid-lyrics\n",
      "https://www.express.co.uk/entertainment/music/560428/Review-Adam-Lambert-and-Queen-SS-Arena-Wembley\n",
      "https://www.ssearena.co.uk/events/detail/queen-adam-lambert-1\n",
      "https://github.com/mishoo/queen.lisp\n",
      "http://www.ticketmaster.com.au/Queen-Adam-Lambert-tickets/artist/1971833\n",
      "http://www.livenation.com/artists/107226/queen-adam-lambert\n",
      "http://www.queenpluspaulrodgers.com/\n",
      "https://eksisozluk.com/queen--36772\n",
      "http://www.noise11.com/news/queen-adam-lambert-melbourne-2-march-2018-review-20180303\n",
      "https://www.azlyrics.com/lyrics/queen/bohemianrhapsody.html\n",
      "http://www.marinetraffic.com/en/ais/details/ships/shipid:121444/mmsi:209070000/imo:9523378/vessel:POLAR_QUEEN\n",
      "https://www.khwiki.com/Save_the_Queen\n",
      "https://www.falabella.com.pe/falabella-pe/category/cat1270532/Queen\n",
      "https://www.visitdenmark.com/denmark/attractions/danish-royal-family\n",
      "http://www.nationalrockreview.com/concert-reviews/queen-park-theater-las-vegas-nv\n",
      "https://www.vg.no/rampelys/musikk/i/qndR6z/konsertanmeldelse-queen-dronningens-salutt-til-seg-selv\n",
      "https://www.ncbi.nlm.nih.gov/pmc/articles/PMC4633876/\n",
      "https://www.smh.com.au/entertainment/books/victoria-the-queen-review-julia-bairds-feminist-life-of-the-emperor-monarch-20161202-gt2hcd.html\n",
      "http://www.wildwoodsaloon.com/event/1792037-all-sweat-productions-queen-iowa-city/\n",
      "https://comunitaqueeniana.weebly.com/more-of-that-jazz/exclusive-interview-with-doug-bogie-third-bass-player-from-queen\n",
      "https://www.guitarplayer.com/players/queen-adam-lambert-announce-las-vegas-residency\n",
      "https://www.thestar.com/entertainment/music/2014/07/14/adam_lambert_outperformed_by_late_freddie_mercury_in_queen_concert_review.html\n",
      "https://www.inturact.com/blog/if-content-is-king-strategy-is-queen\n",
      "http://trackit.standardbredcanada.ca/?op=SALEPED&id=951402&type=SALEPED&ps=Y&usd=Y\n",
      "https://www.trivago.com/dania-beach-61767/hotel/studio-2-queen-sofa-bed-max-6-guests-gated-bbq-13ml-to-beach-kitchenette-10409920\n",
      "https://www.realtor.com/realestateandhomes-search/Queen-City_TX\n",
      "https://www.canada.ca/en/canadian-heritage/services/royal-portraits/order-download-portraits.html\n",
      "https://www.amazon.com/Mackenzie-Queen-Bernie-Mireault/dp/B000M78LF2\n",
      "https://www.nicolas.com/en/Liquors/Highland-Queen-Blended-Scotch-Whisky/p/479272.html\n",
      "https://festivalpeak.com/queen-in-3-d-book-review-fddc85ac355d\n",
      "https://blog.ticketmaster.co.uk/music/heres-need-know-trnsmt-2018-36336/\n",
      "https://www.msn.com/en-us/lifestyle/royals/queen-elizabeth-and-meghan-markle-are-wearing-the-adult-version-of-friendship-bracelets/ar-AAyE7zz\n",
      "https://www.artsy.net/artwork/deana-lawson-soweto-queen\n",
      "https://www.thetoptens.com/queen-songs/\n",
      "https://www.ultimate-guitar.com/artist/the_good_the_bad_the_queen_16459\n",
      "https://www.ticketfly.com/event/1669477-almost-queen-tribute-queen-scranton/\n",
      "https://www.halloweencostumes.com/king-and-queen-costumes.html\n",
      "https://www.pmc.gov.au/government/anniversary-messages\n",
      "https://www.amazon.es/Queen-Greatest-Hits-III-Collection/dp/B0051CBWV8\n",
      "https://www.deruchte.nl/voorstelling/queen-forever-tribute/\n",
      "https://www.usmagazine.com/celebrity-news/pictures/royal-family-tree-queen-elizabeth-kids-and-grandkids-2013107/31546/\n",
      "https://www.letras.com/queen/64295/\n",
      "https://www.ikea.com/my/en/catalog/categories/departments/bedroom/16284/\n",
      "https://www.timesofisrael.com/is-the-uks-queen-elizabeth-descended-from-the-prophet-mohammed/\n",
      "https://www.straitstimes.com/lifestyle/entertainment/lasalle-graduates-piano-rendition-of-queen-songs-gets-the-thumbs-up-from-the\n",
      "https://theburrard.com/rooms/queen/\n",
      "https://www.audible.com/search?searchAuthor=Ellery%2BQueen%2BJr.\n",
      "https://www.ilo.org/global/about-the-ilo/newsroom/news/WCMS_005284/lang--en/index.htm\n",
      "https://www.azarraamoy.com/xvi/\n",
      "https://splashnoco.org/dqsh/\n",
      "https://www.songtexte.com/songtext/queen/love-of-my-life-73da0edd.html\n"
     ]
    },
    {
     "name": "stdout",
     "output_type": "stream",
     "text": [
      "https://www.greeleytribune.com/news/drag-queen-story-hour-sashays-into-windsor-with-popularity-controversy/\n",
      "https://www.tabletopfinder.eu/en/boardgame/6109/pixie-queen\n",
      "https://darksouls2.wiki.fextralife.com/Mytha,+the+Baneful+Queen\n",
      "http://partylike1660.com/thoughts-on-versailles-the-queens-mysterious-ear-bug/\n",
      "https://www.bigfishgames.com/games/14202/viking-chronicles-tale-of-the-lost-queen/\n",
      "https://bfmedsupply.com/ladies-sheer-firm-spt-queen-20-30mmhg-panty-hose-queen/\n",
      "https://www.equibase.com/profiles/Results.cfm?type=Horse&refno=10249937&registry=G&rbt=MX\n",
      "http://www.redlandsroses.com/view_rose.php?roseid=37\n",
      "http://qeh.moh.gov.my/v8/index.php/en/\n",
      "https://www.yelp.com/biz/voodoo-queen-daiquiri-dive-houston-3\n",
      "https://biblehub.com/jeremiah/44-25.htm\n",
      "http://www.gamesgames.com/game/snow-queen\n",
      "http://www.aqueenofmagic.com/2018/03/04/analisis-critico-del-album-greatest-hits-iii-queen.html\n",
      "https://www.paroles-musique.com/eng/Queen-Bohemian_Rhapsody_Remastered-lyrics,p013322413\n",
      "https://www.walgreens.com/store/c/l'eggs-sheer-energy-tights-queen%2B/ID=prod6237549-product\n",
      "https://www.festicket.com/magazine/news/trnsmt-2018-queen-adam-lambert-announced-final-headliner/\n",
      "https://www.tripadvisor.com/ShowTopic-g45963-i10-k6372665-Queen_Vic_in_Riviera_to_close-Las_Vegas_Nevada.html\n",
      "https://m.facebook.com/Queen/?__tn__=%2As-R\n",
      "https://nypost.com/2012/07/01/king-of-queen/\n",
      "http://brunos-place.de/xklc3r8/dq0bceo.php?idwngdgfr=queen-greatest-hits-1-2-3\n",
      "https://www.cda.pl/video/299713826\n",
      "http://www.adorocinema.com/programacao/cinema-A0174/\n",
      "http://valkyriecrusade.wikia.com/wiki/New_Beginnings\n",
      "http://www.lindseyhallphotography.com/outdoor-supermarket-hjtlap-p-470788.html\n",
      "http://www.whiteplainsfloral.com/yqnadg-langtuo-95189.html\n",
      "http://www.rjsmassage.com/outdoor-general-equipment-hjtlap-p-310952.html\n",
      "http://www.rijschoolleeuwarden.com/outdoor-general-equipment-hjtlap-p-505585.html\n",
      "http://www.yogabarn-panglao.com/yqnadg-langtuo-519533.html\n",
      "https://www.charlotteobserver.com/entertainment/music-news-reviews/article222543700.html\n",
      "http://www.utasfilmsociety.com/ayvlzd-langtuo-357519.html\n",
      "http://www.theantonpointe.com/outdoor-general-equipment-store-hjtlap-p-312175.html\n",
      "https://www.podomatic.com/podcasts/space-pirate-radio/episodes/2017-10-22T20_36_11-07_00\n",
      "https://www.pornhub.com/pornstar/mia-queen\n",
      "http://www.agricommbuildings.com/ayvlzd-banzang-585886.html\n",
      "http://www.mutinyofdreamers.com/ayvlzd-dva-26985.html\n",
      "https://www.pornhub.com/pornstar/scorpio-queen\n",
      "http://scrollotomatikkapi.com/frodlyw/jrbnveq.php?idwngdgfr=kingdom-hearts-1.5-2.5-save-files\n"
     ]
    },
    {
     "ename": "HTTPError",
     "evalue": "HTTP Error 503: Service Unavailable",
     "output_type": "error",
     "traceback": [
      "\u001b[1;31m---------------------------------------------------------------------------\u001b[0m",
      "\u001b[1;31mHTTPError\u001b[0m                                 Traceback (most recent call last)",
      "\u001b[1;32m<ipython-input-2-d705e4656c5e>\u001b[0m in \u001b[0;36m<module>\u001b[1;34m()\u001b[0m\n\u001b[0;32m      1\u001b[0m \u001b[0mquery\u001b[0m \u001b[1;33m=\u001b[0m \u001b[1;34m\"Queen\"\u001b[0m\u001b[1;33m\u001b[0m\u001b[0m\n\u001b[0;32m      2\u001b[0m \u001b[1;33m\u001b[0m\u001b[0m\n\u001b[1;32m----> 3\u001b[1;33m \u001b[1;32mfor\u001b[0m \u001b[0mj\u001b[0m \u001b[1;32min\u001b[0m \u001b[0msearch\u001b[0m\u001b[1;33m(\u001b[0m\u001b[0mquery\u001b[0m\u001b[1;33m,\u001b[0m \u001b[0mtld\u001b[0m\u001b[1;33m=\u001b[0m\u001b[1;34m'com'\u001b[0m\u001b[1;33m,\u001b[0m\u001b[0mlang\u001b[0m\u001b[1;33m=\u001b[0m\u001b[1;34m'en'\u001b[0m\u001b[1;33m,\u001b[0m \u001b[0mnum\u001b[0m\u001b[1;33m=\u001b[0m\u001b[1;36m10\u001b[0m\u001b[1;33m,\u001b[0m \u001b[0mstart\u001b[0m\u001b[1;33m=\u001b[0m\u001b[1;36m0\u001b[0m\u001b[1;33m,\u001b[0m \u001b[0mstop\u001b[0m\u001b[1;33m=\u001b[0m\u001b[1;32mNone\u001b[0m\u001b[1;33m,\u001b[0m \u001b[0mpause\u001b[0m\u001b[1;33m=\u001b[0m\u001b[1;36m2.0\u001b[0m\u001b[1;33m)\u001b[0m\u001b[1;33m:\u001b[0m\u001b[1;33m\u001b[0m\u001b[0m\n\u001b[0m\u001b[0;32m      4\u001b[0m     \u001b[0mprint\u001b[0m\u001b[1;33m(\u001b[0m\u001b[0mj\u001b[0m\u001b[1;33m)\u001b[0m\u001b[1;33m\u001b[0m\u001b[0m\n",
      "\u001b[1;32m~\\Anaconda3\\lib\\site-packages\\googlesearch\\__init__.py\u001b[0m in \u001b[0;36msearch\u001b[1;34m(query, tld, lang, tbs, safe, num, start, stop, domains, pause, only_standard, extra_params, tpe, user_agent)\u001b[0m\n\u001b[0;32m    357\u001b[0m \u001b[1;33m\u001b[0m\u001b[0m\n\u001b[0;32m    358\u001b[0m         \u001b[1;31m# Request the Google Search results page.\u001b[0m\u001b[1;33m\u001b[0m\u001b[1;33m\u001b[0m\u001b[0m\n\u001b[1;32m--> 359\u001b[1;33m         \u001b[0mhtml\u001b[0m \u001b[1;33m=\u001b[0m \u001b[0mget_page\u001b[0m\u001b[1;33m(\u001b[0m\u001b[0murl\u001b[0m\u001b[1;33m)\u001b[0m\u001b[1;33m\u001b[0m\u001b[0m\n\u001b[0m\u001b[0;32m    360\u001b[0m \u001b[1;33m\u001b[0m\u001b[0m\n\u001b[0;32m    361\u001b[0m         \u001b[1;31m# Parse the response and process every anchored URL.\u001b[0m\u001b[1;33m\u001b[0m\u001b[1;33m\u001b[0m\u001b[0m\n",
      "\u001b[1;32m~\\Anaconda3\\lib\\site-packages\\googlesearch\\__init__.py\u001b[0m in \u001b[0;36mget_page\u001b[1;34m(url, user_agent)\u001b[0m\n\u001b[0;32m    145\u001b[0m     \u001b[0mrequest\u001b[0m\u001b[1;33m.\u001b[0m\u001b[0madd_header\u001b[0m\u001b[1;33m(\u001b[0m\u001b[1;34m'User-Agent'\u001b[0m\u001b[1;33m,\u001b[0m \u001b[0mUSER_AGENT\u001b[0m\u001b[1;33m)\u001b[0m\u001b[1;33m\u001b[0m\u001b[0m\n\u001b[0;32m    146\u001b[0m     \u001b[0mcookie_jar\u001b[0m\u001b[1;33m.\u001b[0m\u001b[0madd_cookie_header\u001b[0m\u001b[1;33m(\u001b[0m\u001b[0mrequest\u001b[0m\u001b[1;33m)\u001b[0m\u001b[1;33m\u001b[0m\u001b[0m\n\u001b[1;32m--> 147\u001b[1;33m     \u001b[0mresponse\u001b[0m \u001b[1;33m=\u001b[0m \u001b[0murlopen\u001b[0m\u001b[1;33m(\u001b[0m\u001b[0mrequest\u001b[0m\u001b[1;33m)\u001b[0m\u001b[1;33m\u001b[0m\u001b[0m\n\u001b[0m\u001b[0;32m    148\u001b[0m     \u001b[0mcookie_jar\u001b[0m\u001b[1;33m.\u001b[0m\u001b[0mextract_cookies\u001b[0m\u001b[1;33m(\u001b[0m\u001b[0mresponse\u001b[0m\u001b[1;33m,\u001b[0m \u001b[0mrequest\u001b[0m\u001b[1;33m)\u001b[0m\u001b[1;33m\u001b[0m\u001b[0m\n\u001b[0;32m    149\u001b[0m     \u001b[0mhtml\u001b[0m \u001b[1;33m=\u001b[0m \u001b[0mresponse\u001b[0m\u001b[1;33m.\u001b[0m\u001b[0mread\u001b[0m\u001b[1;33m(\u001b[0m\u001b[1;33m)\u001b[0m\u001b[1;33m\u001b[0m\u001b[0m\n",
      "\u001b[1;32m~\\Anaconda3\\lib\\urllib\\request.py\u001b[0m in \u001b[0;36murlopen\u001b[1;34m(url, data, timeout, cafile, capath, cadefault, context)\u001b[0m\n\u001b[0;32m    220\u001b[0m     \u001b[1;32melse\u001b[0m\u001b[1;33m:\u001b[0m\u001b[1;33m\u001b[0m\u001b[0m\n\u001b[0;32m    221\u001b[0m         \u001b[0mopener\u001b[0m \u001b[1;33m=\u001b[0m \u001b[0m_opener\u001b[0m\u001b[1;33m\u001b[0m\u001b[0m\n\u001b[1;32m--> 222\u001b[1;33m     \u001b[1;32mreturn\u001b[0m \u001b[0mopener\u001b[0m\u001b[1;33m.\u001b[0m\u001b[0mopen\u001b[0m\u001b[1;33m(\u001b[0m\u001b[0murl\u001b[0m\u001b[1;33m,\u001b[0m \u001b[0mdata\u001b[0m\u001b[1;33m,\u001b[0m \u001b[0mtimeout\u001b[0m\u001b[1;33m)\u001b[0m\u001b[1;33m\u001b[0m\u001b[0m\n\u001b[0m\u001b[0;32m    223\u001b[0m \u001b[1;33m\u001b[0m\u001b[0m\n\u001b[0;32m    224\u001b[0m \u001b[1;32mdef\u001b[0m \u001b[0minstall_opener\u001b[0m\u001b[1;33m(\u001b[0m\u001b[0mopener\u001b[0m\u001b[1;33m)\u001b[0m\u001b[1;33m:\u001b[0m\u001b[1;33m\u001b[0m\u001b[0m\n",
      "\u001b[1;32m~\\Anaconda3\\lib\\urllib\\request.py\u001b[0m in \u001b[0;36mopen\u001b[1;34m(self, fullurl, data, timeout)\u001b[0m\n\u001b[0;32m    529\u001b[0m         \u001b[1;32mfor\u001b[0m \u001b[0mprocessor\u001b[0m \u001b[1;32min\u001b[0m \u001b[0mself\u001b[0m\u001b[1;33m.\u001b[0m\u001b[0mprocess_response\u001b[0m\u001b[1;33m.\u001b[0m\u001b[0mget\u001b[0m\u001b[1;33m(\u001b[0m\u001b[0mprotocol\u001b[0m\u001b[1;33m,\u001b[0m \u001b[1;33m[\u001b[0m\u001b[1;33m]\u001b[0m\u001b[1;33m)\u001b[0m\u001b[1;33m:\u001b[0m\u001b[1;33m\u001b[0m\u001b[0m\n\u001b[0;32m    530\u001b[0m             \u001b[0mmeth\u001b[0m \u001b[1;33m=\u001b[0m \u001b[0mgetattr\u001b[0m\u001b[1;33m(\u001b[0m\u001b[0mprocessor\u001b[0m\u001b[1;33m,\u001b[0m \u001b[0mmeth_name\u001b[0m\u001b[1;33m)\u001b[0m\u001b[1;33m\u001b[0m\u001b[0m\n\u001b[1;32m--> 531\u001b[1;33m             \u001b[0mresponse\u001b[0m \u001b[1;33m=\u001b[0m \u001b[0mmeth\u001b[0m\u001b[1;33m(\u001b[0m\u001b[0mreq\u001b[0m\u001b[1;33m,\u001b[0m \u001b[0mresponse\u001b[0m\u001b[1;33m)\u001b[0m\u001b[1;33m\u001b[0m\u001b[0m\n\u001b[0m\u001b[0;32m    532\u001b[0m \u001b[1;33m\u001b[0m\u001b[0m\n\u001b[0;32m    533\u001b[0m         \u001b[1;32mreturn\u001b[0m \u001b[0mresponse\u001b[0m\u001b[1;33m\u001b[0m\u001b[0m\n",
      "\u001b[1;32m~\\Anaconda3\\lib\\urllib\\request.py\u001b[0m in \u001b[0;36mhttp_response\u001b[1;34m(self, request, response)\u001b[0m\n\u001b[0;32m    639\u001b[0m         \u001b[1;32mif\u001b[0m \u001b[1;32mnot\u001b[0m \u001b[1;33m(\u001b[0m\u001b[1;36m200\u001b[0m \u001b[1;33m<=\u001b[0m \u001b[0mcode\u001b[0m \u001b[1;33m<\u001b[0m \u001b[1;36m300\u001b[0m\u001b[1;33m)\u001b[0m\u001b[1;33m:\u001b[0m\u001b[1;33m\u001b[0m\u001b[0m\n\u001b[0;32m    640\u001b[0m             response = self.parent.error(\n\u001b[1;32m--> 641\u001b[1;33m                 'http', request, response, code, msg, hdrs)\n\u001b[0m\u001b[0;32m    642\u001b[0m \u001b[1;33m\u001b[0m\u001b[0m\n\u001b[0;32m    643\u001b[0m         \u001b[1;32mreturn\u001b[0m \u001b[0mresponse\u001b[0m\u001b[1;33m\u001b[0m\u001b[0m\n",
      "\u001b[1;32m~\\Anaconda3\\lib\\urllib\\request.py\u001b[0m in \u001b[0;36merror\u001b[1;34m(self, proto, *args)\u001b[0m\n\u001b[0;32m    561\u001b[0m             \u001b[0mhttp_err\u001b[0m \u001b[1;33m=\u001b[0m \u001b[1;36m0\u001b[0m\u001b[1;33m\u001b[0m\u001b[0m\n\u001b[0;32m    562\u001b[0m         \u001b[0margs\u001b[0m \u001b[1;33m=\u001b[0m \u001b[1;33m(\u001b[0m\u001b[0mdict\u001b[0m\u001b[1;33m,\u001b[0m \u001b[0mproto\u001b[0m\u001b[1;33m,\u001b[0m \u001b[0mmeth_name\u001b[0m\u001b[1;33m)\u001b[0m \u001b[1;33m+\u001b[0m \u001b[0margs\u001b[0m\u001b[1;33m\u001b[0m\u001b[0m\n\u001b[1;32m--> 563\u001b[1;33m         \u001b[0mresult\u001b[0m \u001b[1;33m=\u001b[0m \u001b[0mself\u001b[0m\u001b[1;33m.\u001b[0m\u001b[0m_call_chain\u001b[0m\u001b[1;33m(\u001b[0m\u001b[1;33m*\u001b[0m\u001b[0margs\u001b[0m\u001b[1;33m)\u001b[0m\u001b[1;33m\u001b[0m\u001b[0m\n\u001b[0m\u001b[0;32m    564\u001b[0m         \u001b[1;32mif\u001b[0m \u001b[0mresult\u001b[0m\u001b[1;33m:\u001b[0m\u001b[1;33m\u001b[0m\u001b[0m\n\u001b[0;32m    565\u001b[0m             \u001b[1;32mreturn\u001b[0m \u001b[0mresult\u001b[0m\u001b[1;33m\u001b[0m\u001b[0m\n",
      "\u001b[1;32m~\\Anaconda3\\lib\\urllib\\request.py\u001b[0m in \u001b[0;36m_call_chain\u001b[1;34m(self, chain, kind, meth_name, *args)\u001b[0m\n\u001b[0;32m    501\u001b[0m         \u001b[1;32mfor\u001b[0m \u001b[0mhandler\u001b[0m \u001b[1;32min\u001b[0m \u001b[0mhandlers\u001b[0m\u001b[1;33m:\u001b[0m\u001b[1;33m\u001b[0m\u001b[0m\n\u001b[0;32m    502\u001b[0m             \u001b[0mfunc\u001b[0m \u001b[1;33m=\u001b[0m \u001b[0mgetattr\u001b[0m\u001b[1;33m(\u001b[0m\u001b[0mhandler\u001b[0m\u001b[1;33m,\u001b[0m \u001b[0mmeth_name\u001b[0m\u001b[1;33m)\u001b[0m\u001b[1;33m\u001b[0m\u001b[0m\n\u001b[1;32m--> 503\u001b[1;33m             \u001b[0mresult\u001b[0m \u001b[1;33m=\u001b[0m \u001b[0mfunc\u001b[0m\u001b[1;33m(\u001b[0m\u001b[1;33m*\u001b[0m\u001b[0margs\u001b[0m\u001b[1;33m)\u001b[0m\u001b[1;33m\u001b[0m\u001b[0m\n\u001b[0m\u001b[0;32m    504\u001b[0m             \u001b[1;32mif\u001b[0m \u001b[0mresult\u001b[0m \u001b[1;32mis\u001b[0m \u001b[1;32mnot\u001b[0m \u001b[1;32mNone\u001b[0m\u001b[1;33m:\u001b[0m\u001b[1;33m\u001b[0m\u001b[0m\n\u001b[0;32m    505\u001b[0m                 \u001b[1;32mreturn\u001b[0m \u001b[0mresult\u001b[0m\u001b[1;33m\u001b[0m\u001b[0m\n",
      "\u001b[1;32m~\\Anaconda3\\lib\\urllib\\request.py\u001b[0m in \u001b[0;36mhttp_error_302\u001b[1;34m(self, req, fp, code, msg, headers)\u001b[0m\n\u001b[0;32m    753\u001b[0m         \u001b[0mfp\u001b[0m\u001b[1;33m.\u001b[0m\u001b[0mclose\u001b[0m\u001b[1;33m(\u001b[0m\u001b[1;33m)\u001b[0m\u001b[1;33m\u001b[0m\u001b[0m\n\u001b[0;32m    754\u001b[0m \u001b[1;33m\u001b[0m\u001b[0m\n\u001b[1;32m--> 755\u001b[1;33m         \u001b[1;32mreturn\u001b[0m \u001b[0mself\u001b[0m\u001b[1;33m.\u001b[0m\u001b[0mparent\u001b[0m\u001b[1;33m.\u001b[0m\u001b[0mopen\u001b[0m\u001b[1;33m(\u001b[0m\u001b[0mnew\u001b[0m\u001b[1;33m,\u001b[0m \u001b[0mtimeout\u001b[0m\u001b[1;33m=\u001b[0m\u001b[0mreq\u001b[0m\u001b[1;33m.\u001b[0m\u001b[0mtimeout\u001b[0m\u001b[1;33m)\u001b[0m\u001b[1;33m\u001b[0m\u001b[0m\n\u001b[0m\u001b[0;32m    756\u001b[0m \u001b[1;33m\u001b[0m\u001b[0m\n\u001b[0;32m    757\u001b[0m     \u001b[0mhttp_error_301\u001b[0m \u001b[1;33m=\u001b[0m \u001b[0mhttp_error_303\u001b[0m \u001b[1;33m=\u001b[0m \u001b[0mhttp_error_307\u001b[0m \u001b[1;33m=\u001b[0m \u001b[0mhttp_error_302\u001b[0m\u001b[1;33m\u001b[0m\u001b[0m\n",
      "\u001b[1;32m~\\Anaconda3\\lib\\urllib\\request.py\u001b[0m in \u001b[0;36mopen\u001b[1;34m(self, fullurl, data, timeout)\u001b[0m\n\u001b[0;32m    529\u001b[0m         \u001b[1;32mfor\u001b[0m \u001b[0mprocessor\u001b[0m \u001b[1;32min\u001b[0m \u001b[0mself\u001b[0m\u001b[1;33m.\u001b[0m\u001b[0mprocess_response\u001b[0m\u001b[1;33m.\u001b[0m\u001b[0mget\u001b[0m\u001b[1;33m(\u001b[0m\u001b[0mprotocol\u001b[0m\u001b[1;33m,\u001b[0m \u001b[1;33m[\u001b[0m\u001b[1;33m]\u001b[0m\u001b[1;33m)\u001b[0m\u001b[1;33m:\u001b[0m\u001b[1;33m\u001b[0m\u001b[0m\n\u001b[0;32m    530\u001b[0m             \u001b[0mmeth\u001b[0m \u001b[1;33m=\u001b[0m \u001b[0mgetattr\u001b[0m\u001b[1;33m(\u001b[0m\u001b[0mprocessor\u001b[0m\u001b[1;33m,\u001b[0m \u001b[0mmeth_name\u001b[0m\u001b[1;33m)\u001b[0m\u001b[1;33m\u001b[0m\u001b[0m\n\u001b[1;32m--> 531\u001b[1;33m             \u001b[0mresponse\u001b[0m \u001b[1;33m=\u001b[0m \u001b[0mmeth\u001b[0m\u001b[1;33m(\u001b[0m\u001b[0mreq\u001b[0m\u001b[1;33m,\u001b[0m \u001b[0mresponse\u001b[0m\u001b[1;33m)\u001b[0m\u001b[1;33m\u001b[0m\u001b[0m\n\u001b[0m\u001b[0;32m    532\u001b[0m \u001b[1;33m\u001b[0m\u001b[0m\n\u001b[0;32m    533\u001b[0m         \u001b[1;32mreturn\u001b[0m \u001b[0mresponse\u001b[0m\u001b[1;33m\u001b[0m\u001b[0m\n",
      "\u001b[1;32m~\\Anaconda3\\lib\\urllib\\request.py\u001b[0m in \u001b[0;36mhttp_response\u001b[1;34m(self, request, response)\u001b[0m\n\u001b[0;32m    639\u001b[0m         \u001b[1;32mif\u001b[0m \u001b[1;32mnot\u001b[0m \u001b[1;33m(\u001b[0m\u001b[1;36m200\u001b[0m \u001b[1;33m<=\u001b[0m \u001b[0mcode\u001b[0m \u001b[1;33m<\u001b[0m \u001b[1;36m300\u001b[0m\u001b[1;33m)\u001b[0m\u001b[1;33m:\u001b[0m\u001b[1;33m\u001b[0m\u001b[0m\n\u001b[0;32m    640\u001b[0m             response = self.parent.error(\n\u001b[1;32m--> 641\u001b[1;33m                 'http', request, response, code, msg, hdrs)\n\u001b[0m\u001b[0;32m    642\u001b[0m \u001b[1;33m\u001b[0m\u001b[0m\n\u001b[0;32m    643\u001b[0m         \u001b[1;32mreturn\u001b[0m \u001b[0mresponse\u001b[0m\u001b[1;33m\u001b[0m\u001b[0m\n",
      "\u001b[1;32m~\\Anaconda3\\lib\\urllib\\request.py\u001b[0m in \u001b[0;36merror\u001b[1;34m(self, proto, *args)\u001b[0m\n\u001b[0;32m    567\u001b[0m         \u001b[1;32mif\u001b[0m \u001b[0mhttp_err\u001b[0m\u001b[1;33m:\u001b[0m\u001b[1;33m\u001b[0m\u001b[0m\n\u001b[0;32m    568\u001b[0m             \u001b[0margs\u001b[0m \u001b[1;33m=\u001b[0m \u001b[1;33m(\u001b[0m\u001b[0mdict\u001b[0m\u001b[1;33m,\u001b[0m \u001b[1;34m'default'\u001b[0m\u001b[1;33m,\u001b[0m \u001b[1;34m'http_error_default'\u001b[0m\u001b[1;33m)\u001b[0m \u001b[1;33m+\u001b[0m \u001b[0morig_args\u001b[0m\u001b[1;33m\u001b[0m\u001b[0m\n\u001b[1;32m--> 569\u001b[1;33m             \u001b[1;32mreturn\u001b[0m \u001b[0mself\u001b[0m\u001b[1;33m.\u001b[0m\u001b[0m_call_chain\u001b[0m\u001b[1;33m(\u001b[0m\u001b[1;33m*\u001b[0m\u001b[0margs\u001b[0m\u001b[1;33m)\u001b[0m\u001b[1;33m\u001b[0m\u001b[0m\n\u001b[0m\u001b[0;32m    570\u001b[0m \u001b[1;33m\u001b[0m\u001b[0m\n\u001b[0;32m    571\u001b[0m \u001b[1;31m# XXX probably also want an abstract factory that knows when it makes\u001b[0m\u001b[1;33m\u001b[0m\u001b[1;33m\u001b[0m\u001b[0m\n",
      "\u001b[1;32m~\\Anaconda3\\lib\\urllib\\request.py\u001b[0m in \u001b[0;36m_call_chain\u001b[1;34m(self, chain, kind, meth_name, *args)\u001b[0m\n\u001b[0;32m    501\u001b[0m         \u001b[1;32mfor\u001b[0m \u001b[0mhandler\u001b[0m \u001b[1;32min\u001b[0m \u001b[0mhandlers\u001b[0m\u001b[1;33m:\u001b[0m\u001b[1;33m\u001b[0m\u001b[0m\n\u001b[0;32m    502\u001b[0m             \u001b[0mfunc\u001b[0m \u001b[1;33m=\u001b[0m \u001b[0mgetattr\u001b[0m\u001b[1;33m(\u001b[0m\u001b[0mhandler\u001b[0m\u001b[1;33m,\u001b[0m \u001b[0mmeth_name\u001b[0m\u001b[1;33m)\u001b[0m\u001b[1;33m\u001b[0m\u001b[0m\n\u001b[1;32m--> 503\u001b[1;33m             \u001b[0mresult\u001b[0m \u001b[1;33m=\u001b[0m \u001b[0mfunc\u001b[0m\u001b[1;33m(\u001b[0m\u001b[1;33m*\u001b[0m\u001b[0margs\u001b[0m\u001b[1;33m)\u001b[0m\u001b[1;33m\u001b[0m\u001b[0m\n\u001b[0m\u001b[0;32m    504\u001b[0m             \u001b[1;32mif\u001b[0m \u001b[0mresult\u001b[0m \u001b[1;32mis\u001b[0m \u001b[1;32mnot\u001b[0m \u001b[1;32mNone\u001b[0m\u001b[1;33m:\u001b[0m\u001b[1;33m\u001b[0m\u001b[0m\n\u001b[0;32m    505\u001b[0m                 \u001b[1;32mreturn\u001b[0m \u001b[0mresult\u001b[0m\u001b[1;33m\u001b[0m\u001b[0m\n",
      "\u001b[1;32m~\\Anaconda3\\lib\\urllib\\request.py\u001b[0m in \u001b[0;36mhttp_error_default\u001b[1;34m(self, req, fp, code, msg, hdrs)\u001b[0m\n\u001b[0;32m    647\u001b[0m \u001b[1;32mclass\u001b[0m \u001b[0mHTTPDefaultErrorHandler\u001b[0m\u001b[1;33m(\u001b[0m\u001b[0mBaseHandler\u001b[0m\u001b[1;33m)\u001b[0m\u001b[1;33m:\u001b[0m\u001b[1;33m\u001b[0m\u001b[0m\n\u001b[0;32m    648\u001b[0m     \u001b[1;32mdef\u001b[0m \u001b[0mhttp_error_default\u001b[0m\u001b[1;33m(\u001b[0m\u001b[0mself\u001b[0m\u001b[1;33m,\u001b[0m \u001b[0mreq\u001b[0m\u001b[1;33m,\u001b[0m \u001b[0mfp\u001b[0m\u001b[1;33m,\u001b[0m \u001b[0mcode\u001b[0m\u001b[1;33m,\u001b[0m \u001b[0mmsg\u001b[0m\u001b[1;33m,\u001b[0m \u001b[0mhdrs\u001b[0m\u001b[1;33m)\u001b[0m\u001b[1;33m:\u001b[0m\u001b[1;33m\u001b[0m\u001b[0m\n\u001b[1;32m--> 649\u001b[1;33m         \u001b[1;32mraise\u001b[0m \u001b[0mHTTPError\u001b[0m\u001b[1;33m(\u001b[0m\u001b[0mreq\u001b[0m\u001b[1;33m.\u001b[0m\u001b[0mfull_url\u001b[0m\u001b[1;33m,\u001b[0m \u001b[0mcode\u001b[0m\u001b[1;33m,\u001b[0m \u001b[0mmsg\u001b[0m\u001b[1;33m,\u001b[0m \u001b[0mhdrs\u001b[0m\u001b[1;33m,\u001b[0m \u001b[0mfp\u001b[0m\u001b[1;33m)\u001b[0m\u001b[1;33m\u001b[0m\u001b[0m\n\u001b[0m\u001b[0;32m    650\u001b[0m \u001b[1;33m\u001b[0m\u001b[0m\n\u001b[0;32m    651\u001b[0m \u001b[1;32mclass\u001b[0m \u001b[0mHTTPRedirectHandler\u001b[0m\u001b[1;33m(\u001b[0m\u001b[0mBaseHandler\u001b[0m\u001b[1;33m)\u001b[0m\u001b[1;33m:\u001b[0m\u001b[1;33m\u001b[0m\u001b[0m\n",
      "\u001b[1;31mHTTPError\u001b[0m: HTTP Error 503: Service Unavailable"
     ]
    }
   ],
   "source": [
    "query = \"Queen\"\n",
    "\n",
    "for j in search(query, tld='com',lang='en', num=10, start=0, stop=None, pause=2.0):\n",
    "    print(j)"
   ]
  },
  {
   "cell_type": "code",
   "execution_count": 14,
   "metadata": {},
   "outputs": [
    {
     "name": "stdout",
     "output_type": "stream",
     "text": [
      "<generator object search at 0x000001C8E9E619A8>\n"
     ]
    }
   ],
   "source": []
  },
  {
   "cell_type": "code",
   "execution_count": null,
   "metadata": {},
   "outputs": [],
   "source": []
  }
 ],
 "metadata": {
  "kernelspec": {
   "display_name": "Python 3",
   "language": "python",
   "name": "python3"
  },
  "language_info": {
   "codemirror_mode": {
    "name": "ipython",
    "version": 3
   },
   "file_extension": ".py",
   "mimetype": "text/x-python",
   "name": "python",
   "nbconvert_exporter": "python",
   "pygments_lexer": "ipython3",
   "version": "3.7.0"
  }
 },
 "nbformat": 4,
 "nbformat_minor": 2
}
