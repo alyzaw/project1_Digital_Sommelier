{
 "cells": [
  {
   "cell_type": "code",
   "execution_count": 81,
   "metadata": {},
   "outputs": [],
   "source": [
    "#!pip install gmaps\n"
   ]
  },
  {
   "cell_type": "code",
   "execution_count": 82,
   "metadata": {},
   "outputs": [],
   "source": [
    "import pandas as pd\n",
    "import gmaps\n",
    "import random as random\n",
    "import numpy as np"
   ]
  },
  {
   "cell_type": "code",
   "execution_count": 83,
   "metadata": {},
   "outputs": [
    {
     "data": {
      "text/html": [
       "<div>\n",
       "<style scoped>\n",
       "    .dataframe tbody tr th:only-of-type {\n",
       "        vertical-align: middle;\n",
       "    }\n",
       "\n",
       "    .dataframe tbody tr th {\n",
       "        vertical-align: top;\n",
       "    }\n",
       "\n",
       "    .dataframe thead th {\n",
       "        text-align: right;\n",
       "    }\n",
       "</style>\n",
       "<table border=\"1\" class=\"dataframe\">\n",
       "  <thead>\n",
       "    <tr style=\"text-align: right;\">\n",
       "      <th></th>\n",
       "      <th>Unnamed: 0</th>\n",
       "      <th>Unnamed: 0.1</th>\n",
       "      <th>Title</th>\n",
       "      <th>Variety</th>\n",
       "      <th>Year</th>\n",
       "      <th>Price</th>\n",
       "      <th>Grade</th>\n",
       "      <th>Winery</th>\n",
       "      <th>Province</th>\n",
       "      <th>Region</th>\n",
       "      <th>Country</th>\n",
       "      <th>Taster</th>\n",
       "      <th>Taster_Twitter</th>\n",
       "      <th>Description</th>\n",
       "      <th>Latitude</th>\n",
       "      <th>Longitude</th>\n",
       "    </tr>\n",
       "  </thead>\n",
       "  <tbody>\n",
       "    <tr>\n",
       "      <th>0</th>\n",
       "      <td>0</td>\n",
       "      <td>1</td>\n",
       "      <td>Quinta dos Avidagos 2011 Avidagos Red (Douro)</td>\n",
       "      <td>Portuguese Red</td>\n",
       "      <td>2011</td>\n",
       "      <td>15</td>\n",
       "      <td>87</td>\n",
       "      <td>Quinta dos Avidagos</td>\n",
       "      <td>Douro</td>\n",
       "      <td>NaN</td>\n",
       "      <td>Portugal</td>\n",
       "      <td>Roger Voss</td>\n",
       "      <td>@vossroger</td>\n",
       "      <td>This is ripe and fruity, a wine that is smooth...</td>\n",
       "      <td>41.512019</td>\n",
       "      <td>-5.492255</td>\n",
       "    </tr>\n",
       "  </tbody>\n",
       "</table>\n",
       "</div>"
      ],
      "text/plain": [
       "   Unnamed: 0  Unnamed: 0.1                                          Title  \\\n",
       "0           0             1  Quinta dos Avidagos 2011 Avidagos Red (Douro)   \n",
       "\n",
       "          Variety  Year  Price  Grade               Winery Province Region  \\\n",
       "0  Portuguese Red  2011     15     87  Quinta dos Avidagos    Douro    NaN   \n",
       "\n",
       "    Country      Taster Taster_Twitter  \\\n",
       "0  Portugal  Roger Voss     @vossroger   \n",
       "\n",
       "                                         Description   Latitude  Longitude  \n",
       "0  This is ripe and fruity, a wine that is smooth...  41.512019  -5.492255  "
      ]
     },
     "execution_count": 83,
     "metadata": {},
     "output_type": "execute_result"
    }
   ],
   "source": [
    "#importing the edited CSV \n",
    "\n",
    "csv_file = pd.read_csv(\"winedata_coord.csv\")\n",
    "csv_file.head(1)"
   ]
  },
  {
   "cell_type": "code",
   "execution_count": 84,
   "metadata": {},
   "outputs": [
    {
     "data": {
      "text/html": [
       "<div>\n",
       "<style scoped>\n",
       "    .dataframe tbody tr th:only-of-type {\n",
       "        vertical-align: middle;\n",
       "    }\n",
       "\n",
       "    .dataframe tbody tr th {\n",
       "        vertical-align: top;\n",
       "    }\n",
       "\n",
       "    .dataframe thead th {\n",
       "        text-align: right;\n",
       "    }\n",
       "</style>\n",
       "<table border=\"1\" class=\"dataframe\">\n",
       "  <thead>\n",
       "    <tr style=\"text-align: right;\">\n",
       "      <th></th>\n",
       "      <th>Title</th>\n",
       "      <th>Variety</th>\n",
       "      <th>Year</th>\n",
       "      <th>Price</th>\n",
       "      <th>Grade</th>\n",
       "      <th>Winery</th>\n",
       "      <th>Province</th>\n",
       "      <th>Region</th>\n",
       "      <th>Country</th>\n",
       "      <th>Taster</th>\n",
       "      <th>Taster_Twitter</th>\n",
       "      <th>Description</th>\n",
       "      <th>Latitude</th>\n",
       "      <th>Longitude</th>\n",
       "    </tr>\n",
       "  </thead>\n",
       "  <tbody>\n",
       "    <tr>\n",
       "      <th>0</th>\n",
       "      <td>Quinta dos Avidagos 2011 Avidagos Red (Douro)</td>\n",
       "      <td>Portuguese Red</td>\n",
       "      <td>2011</td>\n",
       "      <td>15</td>\n",
       "      <td>87</td>\n",
       "      <td>Quinta dos Avidagos</td>\n",
       "      <td>Douro</td>\n",
       "      <td>NaN</td>\n",
       "      <td>Portugal</td>\n",
       "      <td>Roger Voss</td>\n",
       "      <td>@vossroger</td>\n",
       "      <td>This is ripe and fruity, a wine that is smooth...</td>\n",
       "      <td>41.512019</td>\n",
       "      <td>-5.492255</td>\n",
       "    </tr>\n",
       "  </tbody>\n",
       "</table>\n",
       "</div>"
      ],
      "text/plain": [
       "                                           Title         Variety  Year  Price  \\\n",
       "0  Quinta dos Avidagos 2011 Avidagos Red (Douro)  Portuguese Red  2011     15   \n",
       "\n",
       "   Grade               Winery Province Region   Country      Taster  \\\n",
       "0     87  Quinta dos Avidagos    Douro    NaN  Portugal  Roger Voss   \n",
       "\n",
       "  Taster_Twitter                                        Description  \\\n",
       "0     @vossroger  This is ripe and fruity, a wine that is smooth...   \n",
       "\n",
       "    Latitude  Longitude  \n",
       "0  41.512019  -5.492255  "
      ]
     },
     "execution_count": 84,
     "metadata": {},
     "output_type": "execute_result"
    }
   ],
   "source": [
    "#Removing \"Unnamed:0\" column\n",
    "\n",
    "df = csv_file.drop(columns=[\"Unnamed: 0\", \"Unnamed: 0.1\"])\n",
    "df.head(1)"
   ]
  },
  {
   "cell_type": "code",
   "execution_count": 85,
   "metadata": {},
   "outputs": [
    {
     "data": {
      "text/html": [
       "<div>\n",
       "<style scoped>\n",
       "    .dataframe tbody tr th:only-of-type {\n",
       "        vertical-align: middle;\n",
       "    }\n",
       "\n",
       "    .dataframe tbody tr th {\n",
       "        vertical-align: top;\n",
       "    }\n",
       "\n",
       "    .dataframe thead th {\n",
       "        text-align: right;\n",
       "    }\n",
       "</style>\n",
       "<table border=\"1\" class=\"dataframe\">\n",
       "  <thead>\n",
       "    <tr style=\"text-align: right;\">\n",
       "      <th></th>\n",
       "      <th>Title</th>\n",
       "      <th>Variety</th>\n",
       "      <th>Year</th>\n",
       "      <th>Price</th>\n",
       "      <th>Grade</th>\n",
       "      <th>Winery</th>\n",
       "      <th>Province</th>\n",
       "      <th>Region</th>\n",
       "      <th>Country</th>\n",
       "      <th>Taster</th>\n",
       "      <th>Taster_Twitter</th>\n",
       "      <th>Description</th>\n",
       "      <th>Latitude</th>\n",
       "      <th>Longitude</th>\n",
       "    </tr>\n",
       "  </thead>\n",
       "  <tbody>\n",
       "    <tr>\n",
       "      <th>0</th>\n",
       "      <td>Quinta dos Avidagos 2011 Avidagos Red (Douro)</td>\n",
       "      <td>Portuguese Red</td>\n",
       "      <td>2011</td>\n",
       "      <td>15</td>\n",
       "      <td>87</td>\n",
       "      <td>Quinta dos Avidagos</td>\n",
       "      <td>Douro</td>\n",
       "      <td>NaN</td>\n",
       "      <td>Portugal</td>\n",
       "      <td>Roger Voss</td>\n",
       "      <td>@vossroger</td>\n",
       "      <td>This is ripe and fruity, a wine that is smooth...</td>\n",
       "      <td>41.512019</td>\n",
       "      <td>-5.492255</td>\n",
       "    </tr>\n",
       "  </tbody>\n",
       "</table>\n",
       "</div>"
      ],
      "text/plain": [
       "                                           Title         Variety  Year  Price  \\\n",
       "0  Quinta dos Avidagos 2011 Avidagos Red (Douro)  Portuguese Red  2011     15   \n",
       "\n",
       "   Grade               Winery Province Region   Country      Taster  \\\n",
       "0     87  Quinta dos Avidagos    Douro    NaN  Portugal  Roger Voss   \n",
       "\n",
       "  Taster_Twitter                                        Description  \\\n",
       "0     @vossroger  This is ripe and fruity, a wine that is smooth...   \n",
       "\n",
       "    Latitude  Longitude  \n",
       "0  41.512019  -5.492255  "
      ]
     },
     "execution_count": 85,
     "metadata": {},
     "output_type": "execute_result"
    }
   ],
   "source": [
    "#Dropping a decimal from \"Price\" column and re-naming the column\n",
    "\n",
    "price = [int(x) for x in df[\"Price\"]]\n",
    "df[\"Price\"] = price\n",
    "df.head(1)"
   ]
  },
  {
   "cell_type": "code",
   "execution_count": 86,
   "metadata": {},
   "outputs": [],
   "source": [
    "def find_title(dataframe, row):\n",
    "    return (dataframe.loc[row,: \"Title\"])[\"Title\"]"
   ]
  },
  {
   "cell_type": "code",
   "execution_count": 87,
   "metadata": {},
   "outputs": [
    {
     "data": {
      "text/plain": [
       "'Quinta do Portal 2012 Verdelho and Sauvignon Blanc White (Douro)'"
      ]
     },
     "execution_count": 87,
     "metadata": {},
     "output_type": "execute_result"
    }
   ],
   "source": [
    "find_title(df, 1)"
   ]
  },
  {
   "cell_type": "code",
   "execution_count": 88,
   "metadata": {},
   "outputs": [],
   "source": [
    "#This contains all the functions we need.\n",
    "\n",
    "import numpy as np\n",
    "\n",
    "def find_title(dataframe, row):\n",
    "    return (dataframe.loc[row,: \"Title\"])[\"Title\"]\n",
    "\n",
    "def find_year(dataframe, row):\n",
    "    return (dataframe.loc[row,: \"Year\"])[\"Year\"]\n",
    "\n",
    "def find_country(dataframe, row):\n",
    "    return (dataframe.loc[row,: \"Country\"])[\"Country\"]\n",
    "\n",
    "def find_description(dataframe, row):\n",
    "    return (dataframe.loc[row,: \"Description\"])[\"Description\"]\n",
    "\n",
    "def find_price(dataframe, row):\n",
    "    return (dataframe.loc[row,: \"Price\"])[\"Price\"]\n",
    "\n",
    "def print_wine_info(dataframe, row):\n",
    "    print(f'     \"{find_title(dataframe, row)}\".')\n",
    "    print(f'     The wine is from {find_country(dataframe, row)}, made in {find_year(dataframe, row)}, and may cost you ${find_price(dataframe, row)}.')\n",
    "    print(f'     A reviewer says \"{find_description(dataframe, row)}\".')\n",
    "\n",
    "def print_remaining_wine(dataframe):\n",
    "    print(f'We can help you find a wine from {len(dataframe[\"Title\"])} wine-reviews from {len((dataframe[\"Country\"]).unique())} countries.')\n",
    "    print(f'These wine are from {min(dataframe[\"Year\"])} to {max(dataframe[\"Year\"])} with a price range of ${min(dataframe[\"Price\"])} to ${max(dataframe[\"Price\"])}.')\n",
    "    \n",
    "def pick_a_wine(dataframe):\n",
    "    return random.randrange(len(dataframe[\"Title\"]))\n",
    "\n",
    "def max_score(dataframe):\n",
    "    return max(dataframe[\"Grade\"])\n",
    "\n",
    "def median_score(dataframe):\n",
    "    return np.median(dataframe[\"Grade\"])\n",
    "            \n",
    "        #random_wine_generator = []\n",
    " \n",
    "    #for i in range(3):\n",
    "        #rnum = randrange(len(df[\"Title\"])-1)\n",
    "        #random_wine_generator.append(rnum)\n",
    "    \n",
    "    #first_random_wine = random_wine_generator[0]"
   ]
  },
  {
   "cell_type": "code",
   "execution_count": 89,
   "metadata": {},
   "outputs": [
    {
     "data": {
      "text/plain": [
       "88.0"
      ]
     },
     "execution_count": 89,
     "metadata": {},
     "output_type": "execute_result"
    }
   ],
   "source": [
    "median_score(df)"
   ]
  },
  {
   "cell_type": "code",
   "execution_count": 90,
   "metadata": {},
   "outputs": [
    {
     "data": {
      "text/plain": [
       "54460"
      ]
     },
     "execution_count": 90,
     "metadata": {},
     "output_type": "execute_result"
    }
   ],
   "source": [
    "pick_a_wine(df)"
   ]
  },
  {
   "cell_type": "code",
   "execution_count": 91,
   "metadata": {},
   "outputs": [
    {
     "data": {
      "text/plain": [
       "'Quinta dos Avidagos 2011 Avidagos Red (Douro)'"
      ]
     },
     "execution_count": 91,
     "metadata": {},
     "output_type": "execute_result"
    }
   ],
   "source": [
    "find_title(df, 0)"
   ]
  },
  {
   "cell_type": "code",
   "execution_count": 92,
   "metadata": {},
   "outputs": [
    {
     "name": "stdout",
     "output_type": "stream",
     "text": [
      "     \"Waterstone 2005 Cabernet Sauvignon (Napa Valley)\".\n",
      "     The wine is from US, made in 2005, and may cost you $26.\n",
      "     A reviewer says \"Waterstone's non-reserve Cabernet is often quite good and the '05 is just about their best ever. It's a fine wine, dry and full-bodied and rich in black currants, smoky oak and spices. Drink now and for the next several years.\".\n"
     ]
    }
   ],
   "source": [
    "print_wine_info(df, pick_a_wine(df))"
   ]
  },
  {
   "cell_type": "code",
   "execution_count": 93,
   "metadata": {},
   "outputs": [
    {
     "data": {
      "text/plain": [
       "95850"
      ]
     },
     "execution_count": 93,
     "metadata": {},
     "output_type": "execute_result"
    }
   ],
   "source": [
    "pick_a_wine(df)"
   ]
  },
  {
   "cell_type": "code",
   "execution_count": 94,
   "metadata": {},
   "outputs": [
    {
     "data": {
      "text/plain": [
       "100"
      ]
     },
     "execution_count": 94,
     "metadata": {},
     "output_type": "execute_result"
    }
   ],
   "source": [
    "max_score(df)"
   ]
  },
  {
   "cell_type": "code",
   "execution_count": 95,
   "metadata": {},
   "outputs": [
    {
     "name": "stdout",
     "output_type": "stream",
     "text": [
      "We can help you find a wine from 101357 wine-reviews from 12 countries.\n",
      "These wine are from 2004 to 2016 with a price range of $4 to $3300.\n"
     ]
    }
   ],
   "source": [
    "print_remaining_wine(df)"
   ]
  },
  {
   "cell_type": "code",
   "execution_count": 96,
   "metadata": {},
   "outputs": [
    {
     "name": "stdout",
     "output_type": "stream",
     "text": [
      "----------------------------\n",
      "Welcome to our Wine-Database.\n",
      "We can help you find a wine from 101357 wine-reviews from 12 countries.\n",
      "These wine are from 2004 to 2016 with a price range of $4 to $3300.\n",
      "We can either tailor a wine to your liking, or randomly generate a list of highly rated wines.\n"
     ]
    }
   ],
   "source": [
    "#introducing our program\n",
    "\n",
    "print(f'----------------------------')\n",
    "print(f'Welcome to our Wine-Database.')\n",
    "print(f'We can help you find a wine from {len(df[\"Title\"])} wine-reviews from {len((df[\"Country\"]).unique())} countries.')\n",
    "print(f'These wine are from {min(df[\"Year\"])} to {max(df[\"Year\"])} with a price range of ${min(df[\"Price\"])} to ${max(df[\"Price\"])}.')\n",
    "print(f'We can either tailor a wine to your liking, or randomly generate a list of highly rated wines.')\n",
    "\n"
   ]
  },
  {
   "cell_type": "code",
   "execution_count": 97,
   "metadata": {},
   "outputs": [
    {
     "name": "stdout",
     "output_type": "stream",
     "text": [
      "The maximum price is 20.\n"
     ]
    }
   ],
   "source": [
    "#checking loc function to elimiate rows\n",
    "\n",
    "test_df = df.loc[df[\"Price\"] < 20 + 0.1]\n",
    "print(f'The maximum price is {max(test_df[\"Price\"])}.')"
   ]
  },
  {
   "cell_type": "code",
   "execution_count": 98,
   "metadata": {},
   "outputs": [],
   "source": [
    "list_of_countires = df[\"Country\"].unique()"
   ]
  },
  {
   "cell_type": "code",
   "execution_count": 99,
   "metadata": {},
   "outputs": [
    {
     "name": "stdout",
     "output_type": "stream",
     "text": [
      "It exists\n"
     ]
    }
   ],
   "source": [
    "if \"US\" in list_of_countires:\n",
    "    print(\"It exists\")"
   ]
  },
  {
   "cell_type": "code",
   "execution_count": 100,
   "metadata": {},
   "outputs": [
    {
     "name": "stdout",
     "output_type": "stream",
     "text": [
      "Type 'Yes' if you want us to help you find a wine, 'No' if you just want to see a random list of recommended wine: Yes\n",
      "What is your price limit?” Either type the dollar amount, or type skip if you have too much money: 20\n",
      "We can help you find a wine from 37834 wine-reviews from 12 countries.\n",
      "These wine are from 2004 to 2016 with a price range of $4 to $20.\n",
      "\n",
      "['Portugal' 'US' 'Spain' 'Italy' 'France' 'Germany' 'Argentina' 'Chile'\n",
      " 'Australia' 'Austria' 'South Africa' 'New Zealand']\n",
      "What country's wine do you prefer? If you have no preference, type 'skip': US\n",
      "We can help you find a wine from 12298 wine-reviews from 1 countries.\n",
      "These wine are from 2004 to 2016 with a price range of $4 to $20.\n",
      "     \"Bianchi 2012 El Camino Vineyard Signature Selection Chardonnay (Santa Barbara County)\".\n",
      "     The wine is from US, made in 2012, and may cost you $16.\n",
      "     A reviewer says \"There's a little oak on this Chard, but you can hardly detect it. The flavors are all about ripe pineapples, oranges, peaches and apricots, accented by crisp acidity. A fine example of coastal California Chardonnay, it will marry well with grilled salmon.\".\n",
      "2510\n",
      "36.778261\n",
      "-119.4179324\n",
      "[(36.778261, -119.4179324)]\n"
     ]
    }
   ],
   "source": [
    "#Pulling the random list of wines\n",
    "import random\n",
    "\n",
    "first_answer = input(\"Type 'Yes' if you want us to help you find a wine, 'No' if you just want to see a random list of recommended wine: \")\n",
    "\n",
    "if first_answer.lower() ==\"yes\":\n",
    "    #print(\"It works!\")\n",
    "    second_answer = input(\"What is your price limit?” Either type the dollar amount, or type skip if you have too much money: \")\n",
    "    \n",
    "    if second_answer.isdigit() == True:\n",
    "        #print(\"Thank God it's all numbers!\")\n",
    "        #print(type(second_answer))\n",
    "        new_df = df.loc[df[\"Price\"] < int(second_answer) + 0.1]\n",
    "        print_remaining_wine(new_df)\n",
    "        print(\"\")\n",
    "        print(new_df[\"Country\"].unique())\n",
    "        third_answer = input(\"What country's wine do you prefer? If you have no preference, type 'skip': \" )\n",
    "        \n",
    "        if third_answer in new_df[\"Country\"].unique():\n",
    "            second_new_df = new_df.loc[new_df[\"Country\"] == third_answer]\n",
    "            print_remaining_wine(second_new_df)\n",
    "            \n",
    "            #third_new_df = second_new_df.loc[second_new_df[\"Grade\"] == max_score(second_new_df)]\n",
    "            third_new_df = second_new_df.loc[second_new_df[\"Grade\"] > median_score(second_new_df)]\n",
    "            third_new_df = third_new_df.reset_index(drop=True)\n",
    "            #print(max_score(third_new_df))\n",
    "            #print_remaining_wine(third_new_df)\n",
    "            choice_wine = pick_a_wine(third_new_df)\n",
    "            print_wine_info(third_new_df, choice_wine)\n",
    "            print(choice_wine)\n",
    "            \n",
    "\n",
    "\n",
    "            # Configure gmaps with API key\n",
    "            gmaps.configure(api_key=google_api_key)\n",
    "\n",
    "\n",
    "            # Store 'Lat' and 'Lng' into  locations\n",
    "            lat = (third_new_df.loc[choice_wine,: \"Latitude\"])[\"Latitude\"]\n",
    "            long = (third_new_df.loc[choice_wine,: \"Longitude\"])[\"Longitude\"]              \n",
    "            print(lat)\n",
    "            print(long)\n",
    "            location = [(lat, long)]\n",
    "            print(location)\n",
    "            \n",
    "            winery_layer = gmaps.marker_layer(location)\n",
    "\n",
    "\n",
    "\n",
    "        \n",
    "        elif third_answer.lower() == \"skip\":\n",
    "            second_new_df = new_df\n",
    "            print_remaining_wine(second_new_df)\n",
    "        #else:\n",
    "            #print(\"The country does not exist.\")\n",
    "        \n",
    "        elif third_answer not in new_df[\"Country\"].unique():\n",
    "            wrong_answer = input(\"Please pick the country in the list, or type 'skip': \")\n",
    "            third_answer = wrong_answer\n",
    "            if third_answer in new_df[\"Country\"].unique():\n",
    "                second_new_df = new_df.loc[new_df[\"Country\"] == third_answer]\n",
    "                print_remaining_wine(second_new_df)\n",
    "                \n",
    "                \n",
    "            elif third_answer.lower() == \"skip\":\n",
    "                second_new_df = new_df\n",
    "                print_remaining_wine(second_new_df)\n",
    "        \n",
    "    elif second_answer.lower() == \"skip\":\n",
    "        #print(\"It works!\")\n",
    "        new_df = df\n",
    "        print_remaining_wine(new_df)\n",
    "\n",
    "    elif second_answer.isdigit() == False:\n",
    "        wrong_answer = input(\"Please only type numbers: \")\n",
    "        second_answer = wrong_answer\n",
    "        if second_answer.isdigit() == True:\n",
    "            #print(\"Thank God it's all numbers!\")\n",
    "            #print(type(second_answer))\n",
    "            new_df = df.loc[df[\"Price\"] < int(second_answer) + 0.1]\n",
    "            print_remaining_wine(new_df)\n",
    "    \n",
    "    \n",
    "if first_answer.lower() == \"no\":\n",
    "    random_wine_generator = []\n",
    " \n",
    "    for i in range(3):\n",
    "        rnum = randrange(len(df[\"Title\"])-1)\n",
    "        random_wine_generator.append(rnum)\n",
    "    \n",
    "    first_random_wine = random_wine_generator[0]\n",
    "    second_random_wine = random_wine_generator[1]\n",
    "    third_random_wine = random_wine_generator[2]\n",
    "        \n",
    "    print(\"----------------------\")\n",
    "    print_wine_info(df, first_random_wine)\n",
    "    print(\"\")\n",
    "    print_wine_info(df, second_random_wine)\n",
    "    print(\"\")\n",
    "    print_wine_info(df, third_random_wine)\n",
    "    print(\"----------------------\")\n",
    "    \n",
    "    "
   ]
  },
  {
   "cell_type": "code",
   "execution_count": 101,
   "metadata": {},
   "outputs": [
    {
     "name": "stdout",
     "output_type": "stream",
     "text": [
      "[(36.778261, -119.4179324)]\n"
     ]
    }
   ],
   "source": [
    "fig = gmaps.figure()\n",
    "print(location) \n",
    "marker_layer = gmaps.marker_layer(location)\n",
    "fig.add_layer(marker_layer)\n",
    "\n"
   ]
  },
  {
   "cell_type": "code",
   "execution_count": 58,
   "metadata": {},
   "outputs": [],
   "source": [
    "fig = gmaps.figure()\n",
    "marker_layer = gmaps.marker_layer([(47.7510741000, -120.7401385)])\n",
    "fig.add_layer(marker_layer)"
   ]
  },
  {
   "cell_type": "code",
   "execution_count": 97,
   "metadata": {},
   "outputs": [
    {
     "data": {
      "text/html": [
       "<div>\n",
       "<style scoped>\n",
       "    .dataframe tbody tr th:only-of-type {\n",
       "        vertical-align: middle;\n",
       "    }\n",
       "\n",
       "    .dataframe tbody tr th {\n",
       "        vertical-align: top;\n",
       "    }\n",
       "\n",
       "    .dataframe thead th {\n",
       "        text-align: right;\n",
       "    }\n",
       "</style>\n",
       "<table border=\"1\" class=\"dataframe\">\n",
       "  <thead>\n",
       "    <tr style=\"text-align: right;\">\n",
       "      <th></th>\n",
       "      <th>Title</th>\n",
       "      <th>Variety</th>\n",
       "      <th>Year</th>\n",
       "      <th>Price</th>\n",
       "      <th>Grade</th>\n",
       "      <th>Winery</th>\n",
       "      <th>Province</th>\n",
       "      <th>Region</th>\n",
       "      <th>Country</th>\n",
       "      <th>Taster</th>\n",
       "      <th>Taster_Twitter</th>\n",
       "      <th>Description</th>\n",
       "    </tr>\n",
       "  </thead>\n",
       "  <tbody>\n",
       "    <tr>\n",
       "      <th>0</th>\n",
       "      <td>Rulo 2007 Syrah (Columbia Valley (WA))</td>\n",
       "      <td>Syrah</td>\n",
       "      <td>2007</td>\n",
       "      <td>20</td>\n",
       "      <td>96</td>\n",
       "      <td>Rulo</td>\n",
       "      <td>Washington</td>\n",
       "      <td>Columbia Valley (WA)</td>\n",
       "      <td>US</td>\n",
       "      <td>Paul Gregutt</td>\n",
       "      <td>@paulgwine</td>\n",
       "      <td>Superb fruit highlights this tight, sculpted S...</td>\n",
       "    </tr>\n",
       "  </tbody>\n",
       "</table>\n",
       "</div>"
      ],
      "text/plain": [
       "                                    Title Variety  Year  Price  Grade Winery  \\\n",
       "0  Rulo 2007 Syrah (Columbia Valley (WA))   Syrah  2007     20     96   Rulo   \n",
       "\n",
       "     Province                Region Country        Taster Taster_Twitter  \\\n",
       "0  Washington  Columbia Valley (WA)      US  Paul Gregutt    @paulgwine    \n",
       "\n",
       "                                         Description  \n",
       "0  Superb fruit highlights this tight, sculpted S...  "
      ]
     },
     "execution_count": 97,
     "metadata": {},
     "output_type": "execute_result"
    }
   ],
   "source": [
    "\n",
    "third_new_df = third_new_df.reset_index(drop=True)\n",
    "\n",
    "third_new_df"
   ]
  },
  {
   "cell_type": "code",
   "execution_count": 74,
   "metadata": {},
   "outputs": [
    {
     "name": "stdout",
     "output_type": "stream",
     "text": [
      "[96558, 53869, 21457]\n"
     ]
    },
    {
     "data": {
      "text/plain": [
       "96558"
      ]
     },
     "execution_count": 74,
     "metadata": {},
     "output_type": "execute_result"
    }
   ],
   "source": [
    "from random import *\n",
    "\n",
    "test = []\n",
    " \n",
    "for i in range(3):\n",
    "    rnum = randrange(len(df[\"Title\"])-1)\n",
    "    test.append(rnum)\n",
    "    \n",
    "print(test)\n",
    "\n",
    "test[0]"
   ]
  },
  {
   "cell_type": "code",
   "execution_count": 75,
   "metadata": {},
   "outputs": [
    {
     "name": "stdout",
     "output_type": "stream",
     "text": [
      "70\n"
     ]
    }
   ],
   "source": [
    "print(randrange(100))"
   ]
  },
  {
   "cell_type": "code",
   "execution_count": 8,
   "metadata": {},
   "outputs": [
    {
     "data": {
      "text/plain": [
       "101725"
      ]
     },
     "execution_count": 8,
     "metadata": {},
     "output_type": "execute_result"
    }
   ],
   "source": [
    "len(df[\"Title\"])"
   ]
  },
  {
   "cell_type": "code",
   "execution_count": 9,
   "metadata": {},
   "outputs": [
    {
     "name": "stdout",
     "output_type": "stream",
     "text": [
      "Title    Quinta dos Avidagos 2011 Avidagos Red (Douro)\n",
      "Name: 0, dtype: object\n"
     ]
    }
   ],
   "source": [
    "test2 = df.loc[0,: 'Title']\n",
    "\n",
    "print(test2)"
   ]
  },
  {
   "cell_type": "code",
   "execution_count": 10,
   "metadata": {},
   "outputs": [
    {
     "name": "stdout",
     "output_type": "stream",
     "text": [
      "Quinta dos Avidagos 2011 Avidagos Red (Douro)\n"
     ]
    }
   ],
   "source": [
    "print(test2[\"Title\"])"
   ]
  },
  {
   "cell_type": "code",
   "execution_count": 11,
   "metadata": {},
   "outputs": [
    {
     "name": "stdout",
     "output_type": "stream",
     "text": [
      "Domaine Schoffit 2012 Lieu-dit Harth Cuvée Caroline Gewurztraminer (Alsace)\n"
     ]
    }
   ],
   "source": [
    "for index, row in df.iterrows():\n",
    "    if index == 101724:\n",
    "        print((df.loc[index,: \"Title\"])[\"Title\"])"
   ]
  },
  {
   "cell_type": "code",
   "execution_count": 26,
   "metadata": {},
   "outputs": [],
   "source": [
    "#skip = Skipping the criteria\n",
    "#random = Skipping the random\n",
    "#Yes = Starting the program"
   ]
  },
  {
   "cell_type": "code",
   "execution_count": 27,
   "metadata": {},
   "outputs": [],
   "source": [
    "list_of_prices = df[\"Price\"]"
   ]
  },
  {
   "cell_type": "code",
   "execution_count": null,
   "metadata": {},
   "outputs": [],
   "source": [
    "type(list_of_prices[0])"
   ]
  },
  {
   "cell_type": "code",
   "execution_count": null,
   "metadata": {},
   "outputs": [],
   "source": [
    "list_of_years = df[\"Year\"]\n",
    "type(list_of_years[0])"
   ]
  },
  {
   "cell_type": "code",
   "execution_count": null,
   "metadata": {},
   "outputs": [],
   "source": []
  }
 ],
 "metadata": {
  "kernelspec": {
   "display_name": "Python 3",
   "language": "python",
   "name": "python3"
  },
  "language_info": {
   "codemirror_mode": {
    "name": "ipython",
    "version": 3
   },
   "file_extension": ".py",
   "mimetype": "text/x-python",
   "name": "python",
   "nbconvert_exporter": "python",
   "pygments_lexer": "ipython3",
   "version": "3.7.0"
  }
 },
 "nbformat": 4,
 "nbformat_minor": 2
}
