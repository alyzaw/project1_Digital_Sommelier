{
 "cells": [
  {
   "cell_type": "code",
   "execution_count": 1,
   "metadata": {},
   "outputs": [],
   "source": [
    "# Dependencies\n",
    "from matplotlib import pyplot as plt\n",
    "from scipy.stats import linregress\n",
    "import numpy as np\n",
    "import pandas as pd"
   ]
  },
  {
   "cell_type": "code",
   "execution_count": 2,
   "metadata": {},
   "outputs": [],
   "source": [
    "#Load Data\n",
    "df = pd.read_csv(\"winedata_coord_type.csv\")\n",
    "df.head(2)\n",
    "df=df.loc[df[\"Year\"] != 2016]"
   ]
  },
  {
   "cell_type": "code",
   "execution_count": 3,
   "metadata": {},
   "outputs": [],
   "source": [
    "price =df[\"Price\"]\n",
    "year = df[\"Year\"]"
   ]
  },
  {
   "cell_type": "code",
   "execution_count": 4,
   "metadata": {},
   "outputs": [
    {
     "name": "stdout",
     "output_type": "stream",
     "text": [
      "-1.0216152275712809\n",
      "2090.8184493276335\n",
      "-0.06908915358219986\n",
      "5.717067811127242e-104\n",
      "0.04712507405583729\n"
     ]
    }
   ],
   "source": [
    "# Set line\n",
    "# Remember that the underscore stores variables that are throwaway\n",
    "# Now what if we wanted to keep them? What are they? Can someone tell us?\n",
    "(slope, intercept, rvalue , pvalue, stderr) = linregress(year, price)\n",
    "#(slope, intercept, _ , _, _) = linregress(x_axis, fake)\n",
    "\n",
    "fit = slope * year + intercept\n",
    "\n",
    "print(slope)\n",
    "print(intercept)\n",
    "print(rvalue)\n",
    "print(pvalue)\n",
    "print(stderr)"
   ]
  },
  {
   "cell_type": "code",
   "execution_count": 6,
   "metadata": {},
   "outputs": [
    {
     "data": {
      "image/png": "[encoded data removed]",
      "text/plain": [
       "<Figure size 432x288 with 1 Axes>"
      ]
     },
     "metadata": {
      "needs_background": "light"
     },
     "output_type": "display_data"
    }
   ],
   "source": [
    "# Plot data\n",
    "fig, ax = plt.subplots()\n",
    "\n",
    "#fig.suptitle(\"Wine Data\", fontsize=16, fontweight=\"bold\")\n",
    "\n",
    "ax.set_xlim(2003, 2017)\n",
    "ax.set_ylim(4, 2200)\n",
    "\n",
    "ax.set_xlabel(\"Wine Year\")\n",
    "ax.set_ylabel(\"Wine Price ($)\")\n",
    "\n",
    "ax.plot(year, price, linewidth=0, marker='o')\n",
    "ax.plot(year, fit, 'r--')\n",
    "\n",
    "# Save our graph and show the grap\n",
    "plt.tight_layout()\n",
    "plt.savefig(\"WineData_YearPrice.png\")\n",
    "plt.show()"
   ]
  },
  {
   "cell_type": "code",
   "execution_count": null,
   "metadata": {},
   "outputs": [],
   "source": []
  },
  {
   "cell_type": "code",
   "execution_count": null,
   "metadata": {},
   "outputs": [],
   "source": []
  }
 ],
 "metadata": {
  "kernelspec": {
   "display_name": "Python 3",
   "language": "python",
   "name": "python3"
  },
  "language_info": {
   "codemirror_mode": {
    "name": "ipython",
    "version": 3
   },
   "file_extension": ".py",
   "mimetype": "text/x-python",
   "name": "python",
   "nbconvert_exporter": "python",
   "pygments_lexer": "ipython3",
   "version": "3.7.0"
  }
 },
 "nbformat": 4,
 "nbformat_minor": 2
}
